{
 "cells": [
  {
   "cell_type": "markdown",
   "id": "f18affbd",
   "metadata": {},
   "source": [
    "Write a program that accepts a sentence and calculate the number of letters and digits"
   ]
  },
  {
   "cell_type": "markdown",
   "id": "97ccecde",
   "metadata": {},
   "source": [
    "Suppose the following input is supplied to the program \n",
    "hello world 123 \n",
    "then the output should be:\n",
    "letter 10 digit 3"
   ]
  },
  {
   "cell_type": "code",
   "execution_count": 9,
   "id": "4dc1ce83",
   "metadata": {},
   "outputs": [
    {
     "name": "stdout",
     "output_type": "stream",
     "text": [
      "Enter a string: hello world! 123\n",
      "The number of letter in the given word are 10 and the number of digits in the given word 3\n"
     ]
    }
   ],
   "source": [
    "word=input(\"Enter a string: \")\n",
    "s=list(word)\n",
    "l,d=0,0\n",
    "for i in range(0,len(s)):\n",
    "    if s[i].isdigit():\n",
    "        d+=1\n",
    "    if s[i].isalpha():\n",
    "        l+=1\n",
    "print(\"The number of letter in the given word are {0} and the number of digits in the given word {1}\".format(l,d))"
   ]
  }
 ],
 "metadata": {
  "kernelspec": {
   "display_name": "Python 3 (ipykernel)",
   "language": "python",
   "name": "python3"
  },
  "language_info": {
   "codemirror_mode": {
    "name": "ipython",
    "version": 3
   },
   "file_extension": ".py",
   "mimetype": "text/x-python",
   "name": "python",
   "nbconvert_exporter": "python",
   "pygments_lexer": "ipython3",
   "version": "3.8.13"
  }
 },
 "nbformat": 4,
 "nbformat_minor": 5
}
