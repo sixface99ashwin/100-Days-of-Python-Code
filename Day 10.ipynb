{
 "cells": [
  {
   "cell_type": "markdown",
   "id": "ec9c9d13",
   "metadata": {},
   "source": [
    "Write a program that computes the net amount of a bank account based a transaction log from console input"
   ]
  },
  {
   "cell_type": "code",
   "execution_count": 1,
   "id": "d222140c",
   "metadata": {},
   "outputs": [
    {
     "name": "stdout",
     "output_type": "stream",
     "text": [
      "Enter the valueD 300\n",
      "Enter the valueD 300\n",
      "Enter the valueW 300\n",
      "Enter the valueD 200\n",
      "Enter the valueW 100\n",
      "Enter the value \n",
      "The balance amount is  400\n"
     ]
    }
   ],
   "source": [
    "balance=0\n",
    "while True:\n",
    "    value=input(\"Enter the value\")\n",
    "    if value==\" \":\n",
    "        break\n",
    "    a,b=value.split(\" \")\n",
    "    if a=='D':\n",
    "        balance+=int(b)\n",
    "    if a=='W':\n",
    "        balance-=int(b)\n",
    "print(\"The balance amount is \" ,balance)"
   ]
  },
  {
   "cell_type": "code",
   "execution_count": null,
   "id": "76c7da83",
   "metadata": {},
   "outputs": [],
   "source": []
  }
 ],
 "metadata": {
  "kernelspec": {
   "display_name": "Python 3 (ipykernel)",
   "language": "python",
   "name": "python3"
  },
  "language_info": {
   "codemirror_mode": {
    "name": "ipython",
    "version": 3
   },
   "file_extension": ".py",
   "mimetype": "text/x-python",
   "name": "python",
   "nbconvert_exporter": "python",
   "pygments_lexer": "ipython3",
   "version": "3.8.13"
  }
 },
 "nbformat": 4,
 "nbformat_minor": 5
}
