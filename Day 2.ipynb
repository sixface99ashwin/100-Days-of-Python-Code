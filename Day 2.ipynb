{
 "cells": [
  {
   "cell_type": "markdown",
   "id": "1ea43732",
   "metadata": {},
   "source": [
    "Write a program which can compute a factorial of a given number. The result should be printed in a single line"
   ]
  },
  {
   "cell_type": "code",
   "execution_count": 3,
   "id": "3ef28e6a",
   "metadata": {
    "scrolled": true
   },
   "outputs": [
    {
     "name": "stdout",
     "output_type": "stream",
     "text": [
      "8\n",
      "40320\n"
     ]
    }
   ],
   "source": [
    "number=int(input())\n",
    "result=1\n",
    "for i in range(1,number+1):\n",
    "    result*=i\n",
    "print(result)"
   ]
  },
  {
   "cell_type": "markdown",
   "id": "763ed58a",
   "metadata": {},
   "source": [
    "Using recursive function"
   ]
  },
  {
   "cell_type": "code",
   "execution_count": 4,
   "id": "0ab5711f",
   "metadata": {},
   "outputs": [
    {
     "name": "stdout",
     "output_type": "stream",
     "text": [
      "8\n",
      "40320\n"
     ]
    }
   ],
   "source": [
    "def factorial_of_number(num):\n",
    "    if num==0:\n",
    "        return 1\n",
    "    return num*factorial_of_number(num-1)\n",
    "print(factorial_of_number(int(input())))"
   ]
  }
 ],
 "metadata": {
  "kernelspec": {
   "display_name": "Python 3 (ipykernel)",
   "language": "python",
   "name": "python3"
  },
  "language_info": {
   "codemirror_mode": {
    "name": "ipython",
    "version": 3
   },
   "file_extension": ".py",
   "mimetype": "text/x-python",
   "name": "python",
   "nbconvert_exporter": "python",
   "pygments_lexer": "ipython3",
   "version": "3.8.13"
  }
 },
 "nbformat": 4,
 "nbformat_minor": 5
}
