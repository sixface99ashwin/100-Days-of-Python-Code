{
 "cells": [
  {
   "cell_type": "markdown",
   "id": "82808907",
   "metadata": {},
   "source": [
    "Define a class which has at least two methods:\n",
    "    getValue:to get string value from console input\n",
    "    printValue: to print the string value in upper case\n",
    "Also please include simple test function to test the class methods."
   ]
  },
  {
   "cell_type": "code",
   "execution_count": 1,
   "id": "a3fd4e0c",
   "metadata": {},
   "outputs": [
    {
     "name": "stdout",
     "output_type": "stream",
     "text": [
      "hello world\n",
      "HELLO WORLD\n"
     ]
    }
   ],
   "source": [
    "class Solution:\n",
    "    def __init__(self):\n",
    "        self.value=\"\"\n",
    "    def getValue(self):\n",
    "        self.value=input()\n",
    "    def printValue(self):\n",
    "        print(self.value.upper())\n",
    "c=Solution()\n",
    "\n",
    "c.getValue()\n",
    "c.printValue()"
   ]
  },
  {
   "cell_type": "code",
   "execution_count": null,
   "id": "30b15c53",
   "metadata": {},
   "outputs": [],
   "source": []
  }
 ],
 "metadata": {
  "kernelspec": {
   "display_name": "Python 3 (ipykernel)",
   "language": "python",
   "name": "python3"
  },
  "language_info": {
   "codemirror_mode": {
    "name": "ipython",
    "version": 3
   },
   "file_extension": ".py",
   "mimetype": "text/x-python",
   "name": "python",
   "nbconvert_exporter": "python",
   "pygments_lexer": "ipython3",
   "version": "3.8.13"
  }
 },
 "nbformat": 4,
 "nbformat_minor": 5
}
