{
 "cells": [
  {
   "cell_type": "markdown",
   "id": "c03d4bd4",
   "metadata": {},
   "source": [
    "Write a program, which will find all such between 1000 and 3000(both included) such that each digit of the number is an even number.The numbers obtained should be printed in a comma-seperated sequence on a single line."
   ]
  },
  {
   "cell_type": "code",
   "execution_count": 8,
   "id": "1e12680c",
   "metadata": {},
   "outputs": [
    {
     "name": "stdout",
     "output_type": "stream",
     "text": [
      "Enter the lowest number1000\n",
      "Enter the largest number3000\n",
      "Odd number count: 1000\n",
      "Even numbers count 1001\n"
     ]
    }
   ],
   "source": [
    "low=int(input(\"Enter the lowest number\"))\n",
    "high=int(input(\"Enter the largest number\"))\n",
    "\n",
    "temp=(high-low)//2+(high%2 or low%2)\n",
    "print(\"Odd number count:\",temp)\n",
    "res=(high-low+1)-temp\n",
    "print(\"Even numbers count\",res)"
   ]
  },
  {
   "cell_type": "code",
   "execution_count": 12,
   "id": "82083dc8",
   "metadata": {},
   "outputs": [
    {
     "name": "stdout",
     "output_type": "stream",
     "text": [
      "1000\n",
      "3000\n",
      "odd numbers count 1000 even numbers count 1001\n"
     ]
    }
   ],
   "source": [
    "a=int(input())\n",
    "b=int(input())\n",
    "o,e=0,0\n",
    "for i in range(a,b+1):\n",
    "    if i%2==0:\n",
    "        e+=1\n",
    "    if i%2!=0:\n",
    "        o+=1\n",
    "print(\"odd numbers count {0} even numbers count {1}\".format(o,e))"
   ]
  }
 ],
 "metadata": {
  "kernelspec": {
   "display_name": "Python 3 (ipykernel)",
   "language": "python",
   "name": "python3"
  },
  "language_info": {
   "codemirror_mode": {
    "name": "ipython",
    "version": 3
   },
   "file_extension": ".py",
   "mimetype": "text/x-python",
   "name": "python",
   "nbconvert_exporter": "python",
   "pygments_lexer": "ipython3",
   "version": "3.8.13"
  }
 },
 "nbformat": 4,
 "nbformat_minor": 5
}
