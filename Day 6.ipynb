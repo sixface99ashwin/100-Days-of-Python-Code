{
 "cells": [
  {
   "cell_type": "markdown",
   "id": "8cd04ede",
   "metadata": {},
   "source": [
    "Write a program which accepts a squence of comma seperated 4 digit binary number as input as its input and then check wheather they are divisble by 5 or not. The numbers that are divisble by 5 are to be printed in a comma seperated sequence."
   ]
  },
  {
   "cell_type": "code",
   "execution_count": 3,
   "id": "a4bfa64f",
   "metadata": {},
   "outputs": [
    {
     "name": "stdout",
     "output_type": "stream",
     "text": [
      "Enter the value0101,1010,0010,1111\n",
      "0101,1010,1111\n"
     ]
    }
   ],
   "source": [
    "l=list(map(str,input(\"Enter the value\").split(\",\")))\n",
    "res=[]\n",
    "for i in l:\n",
    "    if int(i,2)%5==0:\n",
    "        res.append(i)\n",
    "print(\",\".join(res))\n",
    "    "
   ]
  }
 ],
 "metadata": {
  "kernelspec": {
   "display_name": "Python 3 (ipykernel)",
   "language": "python",
   "name": "python3"
  },
  "language_info": {
   "codemirror_mode": {
    "name": "ipython",
    "version": 3
   },
   "file_extension": ".py",
   "mimetype": "text/x-python",
   "name": "python",
   "nbconvert_exporter": "python",
   "pygments_lexer": "ipython3",
   "version": "3.8.13"
  }
 },
 "nbformat": 4,
 "nbformat_minor": 5
}
