{
 "cells": [
  {
   "cell_type": "markdown",
   "id": "f5c03a82",
   "metadata": {},
   "source": [
    "Write a program that accepts a sequence of whitespace seperated words as input and prints the words after removing all duplicate words and sorting them alphabetically"
   ]
  },
  {
   "cell_type": "markdown",
   "id": "7afcf4fa",
   "metadata": {},
   "source": [
    "s='''suppose the following input is supplied to the program:\n",
    "hello world and practice makes perfect and hello world again\n",
    "Then, the output should be:\n",
    "again and hello makes perfect practice world'''"
   ]
  },
  {
   "cell_type": "code",
   "execution_count": 1,
   "id": "3b3eec47",
   "metadata": {},
   "outputs": [
    {
     "name": "stdout",
     "output_type": "stream",
     "text": [
      "Enter your string: suppose the following input is supplied to the program: hello world and practice makes perfect and hello world again Then, the output should be: again and hello makes perfect practice world\n",
      "\n",
      "\n",
      "again and be: following hello input is makes output perfect practice program: should supplied suppose the then, to world\n"
     ]
    }
   ],
   "source": [
    "s=input(\"Enter your string: \")\n",
    "s=s.lower()\n",
    "l=list(s.split(\" \"))\n",
    "s=set(l)\n",
    "l=list(s)\n",
    "l=sorted(l)\n",
    "print(\"\\n\")\n",
    "print(' '.join(l))"
   ]
  },
  {
   "cell_type": "code",
   "execution_count": null,
   "id": "47ebd8bf",
   "metadata": {},
   "outputs": [],
   "source": []
  }
 ],
 "metadata": {
  "kernelspec": {
   "display_name": "Python 3 (ipykernel)",
   "language": "python",
   "name": "python3"
  },
  "language_info": {
   "codemirror_mode": {
    "name": "ipython",
    "version": 3
   },
   "file_extension": ".py",
   "mimetype": "text/x-python",
   "name": "python",
   "nbconvert_exporter": "python",
   "pygments_lexer": "ipython3",
   "version": "3.8.13"
  }
 },
 "nbformat": 4,
 "nbformat_minor": 5
}
