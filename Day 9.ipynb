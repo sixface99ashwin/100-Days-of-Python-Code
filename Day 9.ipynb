{
 "cells": [
  {
   "cell_type": "markdown",
   "id": "2ec91ebb",
   "metadata": {},
   "source": [
    "Use a list comprehensive to store each odd number in a list. The list is input by sequence of comma-seperated number"
   ]
  },
  {
   "cell_type": "markdown",
   "id": "c61a7267",
   "metadata": {},
   "source": [
    " Suppose the following input is supplied to the program \n",
    "1,2,3,4,5,6,7,8,9\n",
    "Then, the output should be:\n",
    "1,3,5,7,9\n"
   ]
  },
  {
   "cell_type": "code",
   "execution_count": 5,
   "id": "4e066f31",
   "metadata": {},
   "outputs": [
    {
     "name": "stdout",
     "output_type": "stream",
     "text": [
      "1,2,3,4,5,6,7,8,9\n",
      "The odd numbers in list are  [1, 3, 5, 7, 9]\n"
     ]
    }
   ],
   "source": [
    "l=list(map(int,input().split(\",\")))\n",
    "res=[ i for i in l if i%2!=0]\n",
    "print(\"The odd numbers in list are \",res)\n"
   ]
  }
 ],
 "metadata": {
  "kernelspec": {
   "display_name": "Python 3 (ipykernel)",
   "language": "python",
   "name": "python3"
  },
  "language_info": {
   "codemirror_mode": {
    "name": "ipython",
    "version": 3
   },
   "file_extension": ".py",
   "mimetype": "text/x-python",
   "name": "python",
   "nbconvert_exporter": "python",
   "pygments_lexer": "ipython3",
   "version": "3.8.13"
  }
 },
 "nbformat": 4,
 "nbformat_minor": 5
}
